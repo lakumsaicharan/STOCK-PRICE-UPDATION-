{
 "cells": [
  {
   "cell_type": "code",
   "execution_count": 1,
   "id": "e45998f5-7a14-40c1-8e60-3d6fd1621176",
   "metadata": {},
   "outputs": [],
   "source": [
    "import pandas as pd"
   ]
  },
  {
   "cell_type": "code",
   "execution_count": 2,
   "id": "d7c84cbf-adc6-4403-b5ea-81bdc6071209",
   "metadata": {},
   "outputs": [],
   "source": [
    "a = pd.read_csv('products.csv')\n",
    "b = pd.read_csv('sales.csv')"
   ]
  },
  {
   "cell_type": "code",
   "execution_count": 3,
   "id": "e4327387-e25d-47e2-9260-918eeae1e485",
   "metadata": {},
   "outputs": [
    {
     "name": "stdout",
     "output_type": "stream",
     "text": [
      "<class 'pandas.core.frame.DataFrame'>\n",
      "RangeIndex: 3 entries, 0 to 2\n",
      "Data columns (total 5 columns):\n",
      " #   Column         Non-Null Count  Dtype  \n",
      "---  ------         --------------  -----  \n",
      " 0   sku            3 non-null      object \n",
      " 1   name           3 non-null      object \n",
      " 2   current_price  3 non-null      float64\n",
      " 3   cost_price     3 non-null      int64  \n",
      " 4   stock          3 non-null      int64  \n",
      "dtypes: float64(1), int64(2), object(2)\n",
      "memory usage: 252.0+ bytes\n"
     ]
    }
   ],
   "source": [
    "a.info()"
   ]
  },
  {
   "cell_type": "code",
   "execution_count": 4,
   "id": "5796406a-019f-4fa9-8bbe-6c129fd6169d",
   "metadata": {},
   "outputs": [
    {
     "name": "stdout",
     "output_type": "stream",
     "text": [
      "<class 'pandas.core.frame.DataFrame'>\n",
      "RangeIndex: 3 entries, 0 to 2\n",
      "Data columns (total 2 columns):\n",
      " #   Column         Non-Null Count  Dtype \n",
      "---  ------         --------------  ----- \n",
      " 0   sku            3 non-null      object\n",
      " 1   quantity_sold  3 non-null      int64 \n",
      "dtypes: int64(1), object(1)\n",
      "memory usage: 180.0+ bytes\n"
     ]
    }
   ],
   "source": [
    "b.info()"
   ]
  },
  {
   "cell_type": "code",
   "execution_count": 5,
   "id": "4c18a139-579a-4e80-a477-ea465f48cf36",
   "metadata": {},
   "outputs": [
    {
     "data": {
      "text/html": [
       "<div>\n",
       "<style scoped>\n",
       "    .dataframe tbody tr th:only-of-type {\n",
       "        vertical-align: middle;\n",
       "    }\n",
       "\n",
       "    .dataframe tbody tr th {\n",
       "        vertical-align: top;\n",
       "    }\n",
       "\n",
       "    .dataframe thead th {\n",
       "        text-align: right;\n",
       "    }\n",
       "</style>\n",
       "<table border=\"1\" class=\"dataframe\">\n",
       "  <thead>\n",
       "    <tr style=\"text-align: right;\">\n",
       "      <th></th>\n",
       "      <th>sku</th>\n",
       "      <th>name</th>\n",
       "      <th>current_price</th>\n",
       "      <th>cost_price</th>\n",
       "      <th>stock</th>\n",
       "    </tr>\n",
       "  </thead>\n",
       "  <tbody>\n",
       "    <tr>\n",
       "      <th>0</th>\n",
       "      <td>A123</td>\n",
       "      <td>Item A</td>\n",
       "      <td>649.99</td>\n",
       "      <td>500</td>\n",
       "      <td>150</td>\n",
       "    </tr>\n",
       "    <tr>\n",
       "      <th>1</th>\n",
       "      <td>B456</td>\n",
       "      <td>Item B</td>\n",
       "      <td>699.00</td>\n",
       "      <td>550</td>\n",
       "      <td>15</td>\n",
       "    </tr>\n",
       "    <tr>\n",
       "      <th>2</th>\n",
       "      <td>C789</td>\n",
       "      <td>Item C</td>\n",
       "      <td>999.00</td>\n",
       "      <td>500</td>\n",
       "      <td>250</td>\n",
       "    </tr>\n",
       "  </tbody>\n",
       "</table>\n",
       "</div>"
      ],
      "text/plain": [
       "    sku    name  current_price  cost_price  stock\n",
       "0  A123  Item A         649.99         500    150\n",
       "1  B456  Item B         699.00         550     15\n",
       "2  C789  Item C         999.00         500    250"
      ]
     },
     "execution_count": 5,
     "metadata": {},
     "output_type": "execute_result"
    }
   ],
   "source": [
    "a"
   ]
  },
  {
   "cell_type": "code",
   "execution_count": 6,
   "id": "b2e41a03-1f9b-4a6f-8aa0-58cc8ac913f7",
   "metadata": {},
   "outputs": [
    {
     "data": {
      "text/html": [
       "<div>\n",
       "<style scoped>\n",
       "    .dataframe tbody tr th:only-of-type {\n",
       "        vertical-align: middle;\n",
       "    }\n",
       "\n",
       "    .dataframe tbody tr th {\n",
       "        vertical-align: top;\n",
       "    }\n",
       "\n",
       "    .dataframe thead th {\n",
       "        text-align: right;\n",
       "    }\n",
       "</style>\n",
       "<table border=\"1\" class=\"dataframe\">\n",
       "  <thead>\n",
       "    <tr style=\"text-align: right;\">\n",
       "      <th></th>\n",
       "      <th>sku</th>\n",
       "      <th>quantity_sold</th>\n",
       "    </tr>\n",
       "  </thead>\n",
       "  <tbody>\n",
       "    <tr>\n",
       "      <th>0</th>\n",
       "      <td>A123</td>\n",
       "      <td>10</td>\n",
       "    </tr>\n",
       "    <tr>\n",
       "      <th>1</th>\n",
       "      <td>B456</td>\n",
       "      <td>35</td>\n",
       "    </tr>\n",
       "    <tr>\n",
       "      <th>2</th>\n",
       "      <td>C789</td>\n",
       "      <td>0</td>\n",
       "    </tr>\n",
       "  </tbody>\n",
       "</table>\n",
       "</div>"
      ],
      "text/plain": [
       "    sku  quantity_sold\n",
       "0  A123             10\n",
       "1  B456             35\n",
       "2  C789              0"
      ]
     },
     "execution_count": 6,
     "metadata": {},
     "output_type": "execute_result"
    }
   ],
   "source": [
    "b"
   ]
  },
  {
   "cell_type": "code",
   "execution_count": 7,
   "id": "aaa8c436-2ca3-42be-8139-e0cdbece35d5",
   "metadata": {},
   "outputs": [],
   "source": [
    "current_price = a['current_price']\n",
    "cost_price = a['cost_price']\n",
    "stock = a['stock']\n",
    "quantity_sold = b['quantity_sold']"
   ]
  },
  {
   "cell_type": "code",
   "execution_count": 8,
   "id": "4a4c76b8-e98d-48bb-88a8-d79dbdb8035c",
   "metadata": {},
   "outputs": [],
   "source": [
    "def rules(current_price, cost_price, stock, quantity_sold):\n",
    "    new_price = current_price \n",
    "    if stock < 20 and quantity_sold > 30:\n",
    "        new_price = current_price * 1.15\n",
    "    elif stock > 200 and quantity_sold == 0:\n",
    "        new_price = current_price * 0.7\n",
    "    elif stock > 100 and quantity_sold < 20:\n",
    "        new_price = current_price * 0.9\n",
    "\n",
    "    min_price = cost_price * 1.2\n",
    "    if new_price < min_price:\n",
    "        new_price = min_price\n",
    "\n",
    "    return round(new_price, 2)"
   ]
  },
  {
   "cell_type": "code",
   "execution_count": 9,
   "id": "bb9c0b24-accb-47df-8b8a-fe53404f3f84",
   "metadata": {},
   "outputs": [
    {
     "data": {
      "text/plain": [
       "699.99"
      ]
     },
     "execution_count": 9,
     "metadata": {},
     "output_type": "execute_result"
    }
   ],
   "source": [
    "rules(999.99,500,250,0)"
   ]
  },
  {
   "cell_type": "code",
   "execution_count": 10,
   "id": "a9a933f0-8efd-4747-b231-e38dc3a27ee3",
   "metadata": {},
   "outputs": [],
   "source": [
    "df = pd.merge(a, b, on=\"sku\", how=\"left\")\n",
    "df[\"quantity_sold\"] = df[\"quantity_sold\"].fillna(0)"
   ]
  },
  {
   "cell_type": "code",
   "execution_count": 11,
   "id": "d4572701-218f-4427-800c-eb96ab8a5fbc",
   "metadata": {},
   "outputs": [
    {
     "data": {
      "text/html": [
       "<div>\n",
       "<style scoped>\n",
       "    .dataframe tbody tr th:only-of-type {\n",
       "        vertical-align: middle;\n",
       "    }\n",
       "\n",
       "    .dataframe tbody tr th {\n",
       "        vertical-align: top;\n",
       "    }\n",
       "\n",
       "    .dataframe thead th {\n",
       "        text-align: right;\n",
       "    }\n",
       "</style>\n",
       "<table border=\"1\" class=\"dataframe\">\n",
       "  <thead>\n",
       "    <tr style=\"text-align: right;\">\n",
       "      <th></th>\n",
       "      <th>sku</th>\n",
       "      <th>name</th>\n",
       "      <th>current_price</th>\n",
       "      <th>cost_price</th>\n",
       "      <th>stock</th>\n",
       "      <th>quantity_sold</th>\n",
       "    </tr>\n",
       "  </thead>\n",
       "  <tbody>\n",
       "    <tr>\n",
       "      <th>0</th>\n",
       "      <td>A123</td>\n",
       "      <td>Item A</td>\n",
       "      <td>649.99</td>\n",
       "      <td>500</td>\n",
       "      <td>150</td>\n",
       "      <td>10</td>\n",
       "    </tr>\n",
       "    <tr>\n",
       "      <th>1</th>\n",
       "      <td>B456</td>\n",
       "      <td>Item B</td>\n",
       "      <td>699.00</td>\n",
       "      <td>550</td>\n",
       "      <td>15</td>\n",
       "      <td>35</td>\n",
       "    </tr>\n",
       "    <tr>\n",
       "      <th>2</th>\n",
       "      <td>C789</td>\n",
       "      <td>Item C</td>\n",
       "      <td>999.00</td>\n",
       "      <td>500</td>\n",
       "      <td>250</td>\n",
       "      <td>0</td>\n",
       "    </tr>\n",
       "  </tbody>\n",
       "</table>\n",
       "</div>"
      ],
      "text/plain": [
       "    sku    name  current_price  cost_price  stock  quantity_sold\n",
       "0  A123  Item A         649.99         500    150             10\n",
       "1  B456  Item B         699.00         550     15             35\n",
       "2  C789  Item C         999.00         500    250              0"
      ]
     },
     "execution_count": 11,
     "metadata": {},
     "output_type": "execute_result"
    }
   ],
   "source": [
    "df"
   ]
  },
  {
   "cell_type": "code",
   "execution_count": 12,
   "id": "966759b7-3917-4a0e-bd30-c79f7f1ed9fc",
   "metadata": {},
   "outputs": [],
   "source": [
    "df[\"new_price\"] = df.apply(lambda row: rules(\n",
    "    row[\"current_price\"],\n",
    "    row[\"cost_price\"],\n",
    "    row[\"stock\"],\n",
    "    row[\"quantity_sold\"]\n",
    "), axis=1)\n"
   ]
  },
  {
   "cell_type": "code",
   "execution_count": 13,
   "id": "8aedb572-f595-41d4-917f-908c3e5f6b27",
   "metadata": {},
   "outputs": [
    {
     "data": {
      "text/html": [
       "<div>\n",
       "<style scoped>\n",
       "    .dataframe tbody tr th:only-of-type {\n",
       "        vertical-align: middle;\n",
       "    }\n",
       "\n",
       "    .dataframe tbody tr th {\n",
       "        vertical-align: top;\n",
       "    }\n",
       "\n",
       "    .dataframe thead th {\n",
       "        text-align: right;\n",
       "    }\n",
       "</style>\n",
       "<table border=\"1\" class=\"dataframe\">\n",
       "  <thead>\n",
       "    <tr style=\"text-align: right;\">\n",
       "      <th></th>\n",
       "      <th>sku</th>\n",
       "      <th>name</th>\n",
       "      <th>current_price</th>\n",
       "      <th>cost_price</th>\n",
       "      <th>stock</th>\n",
       "      <th>quantity_sold</th>\n",
       "      <th>new_price</th>\n",
       "    </tr>\n",
       "  </thead>\n",
       "  <tbody>\n",
       "    <tr>\n",
       "      <th>0</th>\n",
       "      <td>A123</td>\n",
       "      <td>Item A</td>\n",
       "      <td>649.99</td>\n",
       "      <td>500</td>\n",
       "      <td>150</td>\n",
       "      <td>10</td>\n",
       "      <td>600.00</td>\n",
       "    </tr>\n",
       "    <tr>\n",
       "      <th>1</th>\n",
       "      <td>B456</td>\n",
       "      <td>Item B</td>\n",
       "      <td>699.00</td>\n",
       "      <td>550</td>\n",
       "      <td>15</td>\n",
       "      <td>35</td>\n",
       "      <td>803.85</td>\n",
       "    </tr>\n",
       "    <tr>\n",
       "      <th>2</th>\n",
       "      <td>C789</td>\n",
       "      <td>Item C</td>\n",
       "      <td>999.00</td>\n",
       "      <td>500</td>\n",
       "      <td>250</td>\n",
       "      <td>0</td>\n",
       "      <td>699.30</td>\n",
       "    </tr>\n",
       "  </tbody>\n",
       "</table>\n",
       "</div>"
      ],
      "text/plain": [
       "    sku    name  current_price  cost_price  stock  quantity_sold  new_price\n",
       "0  A123  Item A         649.99         500    150             10     600.00\n",
       "1  B456  Item B         699.00         550     15             35     803.85\n",
       "2  C789  Item C         999.00         500    250              0     699.30"
      ]
     },
     "execution_count": 13,
     "metadata": {},
     "output_type": "execute_result"
    }
   ],
   "source": [
    "df"
   ]
  },
  {
   "cell_type": "code",
   "execution_count": 14,
   "id": "a9bdec6b-e1e1-48c9-af54-7a890421fadc",
   "metadata": {},
   "outputs": [],
   "source": [
    "df = df[[\"sku\", \"current_price\", \"new_price\"]]\n",
    "df.columns = [\"sku\", \"old_price\", \"new_price\"]"
   ]
  },
  {
   "cell_type": "code",
   "execution_count": 15,
   "id": "e3df93c3-eade-4752-87c0-7d660640b720",
   "metadata": {},
   "outputs": [
    {
     "data": {
      "text/html": [
       "<div>\n",
       "<style scoped>\n",
       "    .dataframe tbody tr th:only-of-type {\n",
       "        vertical-align: middle;\n",
       "    }\n",
       "\n",
       "    .dataframe tbody tr th {\n",
       "        vertical-align: top;\n",
       "    }\n",
       "\n",
       "    .dataframe thead th {\n",
       "        text-align: right;\n",
       "    }\n",
       "</style>\n",
       "<table border=\"1\" class=\"dataframe\">\n",
       "  <thead>\n",
       "    <tr style=\"text-align: right;\">\n",
       "      <th></th>\n",
       "      <th>sku</th>\n",
       "      <th>old_price</th>\n",
       "      <th>new_price</th>\n",
       "    </tr>\n",
       "  </thead>\n",
       "  <tbody>\n",
       "    <tr>\n",
       "      <th>0</th>\n",
       "      <td>A123</td>\n",
       "      <td>649.99</td>\n",
       "      <td>600.00</td>\n",
       "    </tr>\n",
       "    <tr>\n",
       "      <th>1</th>\n",
       "      <td>B456</td>\n",
       "      <td>699.00</td>\n",
       "      <td>803.85</td>\n",
       "    </tr>\n",
       "    <tr>\n",
       "      <th>2</th>\n",
       "      <td>C789</td>\n",
       "      <td>999.00</td>\n",
       "      <td>699.30</td>\n",
       "    </tr>\n",
       "  </tbody>\n",
       "</table>\n",
       "</div>"
      ],
      "text/plain": [
       "    sku  old_price  new_price\n",
       "0  A123     649.99     600.00\n",
       "1  B456     699.00     803.85\n",
       "2  C789     999.00     699.30"
      ]
     },
     "execution_count": 15,
     "metadata": {},
     "output_type": "execute_result"
    }
   ],
   "source": [
    "df"
   ]
  },
  {
   "cell_type": "code",
   "execution_count": 16,
   "id": "906191f5-4324-48fe-8345-44d9c01c3286",
   "metadata": {},
   "outputs": [],
   "source": [
    "df.to_csv('updated_prices.csv',index = False)"
   ]
  }
 ],
 "metadata": {
  "kernelspec": {
   "display_name": "Python 3 (ipykernel)",
   "language": "python",
   "name": "python3"
  },
  "language_info": {
   "codemirror_mode": {
    "name": "ipython",
    "version": 3
   },
   "file_extension": ".py",
   "mimetype": "text/x-python",
   "name": "python",
   "nbconvert_exporter": "python",
   "pygments_lexer": "ipython3",
   "version": "3.13.3"
  }
 },
 "nbformat": 4,
 "nbformat_minor": 5
}
